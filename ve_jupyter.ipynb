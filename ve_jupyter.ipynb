{
 "cells": [
  {
   "cell_type": "markdown",
   "id": "8605f25d-075c-451e-a8ae-38e1c68bdd72",
   "metadata": {},
   "source": [
    "# Variant Extraction - Notebook"
   ]
  },
  {
   "cell_type": "markdown",
   "id": "f204f4fe-9acc-46f3-8578-0671cf8ccdbe",
   "metadata": {},
   "source": [
    "This notebook is used as an implementation of an approach for the paper about variant analysis in CAiSE 2024."
   ]
  },
  {
   "cell_type": "code",
   "execution_count": null,
   "id": "7688daa8-2438-4b6e-a9c9-75a354a0030f",
   "metadata": {
    "tags": []
   },
   "outputs": [],
   "source": [
    "from ve_main import *"
   ]
  },
  {
   "cell_type": "markdown",
   "id": "4ff99f12-1cd0-4584-a719-8670b224e8b5",
   "metadata": {},
   "source": [
    "## Execute Program"
   ]
  },
  {
   "cell_type": "code",
   "execution_count": null,
   "id": "bc7c63a4-a9d3-4daf-a1e3-9bfdcde1aabe",
   "metadata": {},
   "outputs": [],
   "source": [
    "df = main()"
   ]
  }
 ],
 "metadata": {
  "kernelspec": {
   "display_name": "Python 3 (ipykernel)",
   "language": "python",
   "name": "python3"
  },
  "language_info": {
   "codemirror_mode": {
    "name": "ipython",
    "version": 3
   },
   "file_extension": ".py",
   "mimetype": "text/x-python",
   "name": "python",
   "nbconvert_exporter": "python",
   "pygments_lexer": "ipython3",
   "version": "3.11.6"
  }
 },
 "nbformat": 4,
 "nbformat_minor": 5
}
