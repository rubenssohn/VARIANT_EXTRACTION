{
 "cells": [
  {
   "cell_type": "markdown",
   "id": "8605f25d-075c-451e-a8ae-38e1c68bdd72",
   "metadata": {},
   "source": [
    "# Variant Extraction - Notebook"
   ]
  },
  {
   "cell_type": "markdown",
   "id": "f204f4fe-9acc-46f3-8578-0671cf8ccdbe",
   "metadata": {},
   "source": [
    "This notebook is used as an implementation of an approach for the paper about variant analysis in CAiSE 2024."
   ]
  },
  {
   "cell_type": "code",
   "execution_count": 2,
   "id": "f8db6fe8-069a-478f-a313-407e3f5cc417",
   "metadata": {
    "tags": []
   },
   "outputs": [],
   "source": [
    "# Source: https://realpython.com/python-application-layouts/\n",
    "#helloworld/\n",
    "#│\n",
    "#├── .gitignore\n",
    "#├── helloworld.py -> main.py\n",
    "#|---> HERE: Packages for program\n",
    "#├── LICENSE\n",
    "#├── README.md\n",
    "#├── requirements.txt\n",
    "#├── setup.py\n",
    "#└── tests.py"
   ]
  },
  {
   "cell_type": "markdown",
   "id": "712a170b-347f-43dd-8c59-2e3ab4c5fef3",
   "metadata": {
    "tags": []
   },
   "source": [
    "**ToDo**\n",
    "- From property dictionary, summarize log instances for both case and event attributes\n",
    "- Include new property functions in the main function\n",
    "- (if time) Make functions available with a \"property\"-input"
   ]
  },
  {
   "cell_type": "code",
   "execution_count": 5,
   "id": "7688daa8-2438-4b6e-a9c9-75a354a0030f",
   "metadata": {
    "tags": []
   },
   "outputs": [
    {
     "name": "stdout",
     "output_type": "stream",
     "text": [
      "\n",
      "###############\n",
      "START\n",
      "VARIANT ANALYSIS\n",
      "---\n",
      "\n",
      "TASK: Log import\n"
     ]
    },
    {
     "data": {
      "application/vnd.jupyter.widget-view+json": {
       "model_id": "f2128815afe944618570cd55c6c4f060",
       "version_major": 2,
       "version_minor": 0
      },
      "text/plain": [
       "parsing log, completed traces ::   0%|          | 0/1050 [00:00<?, ?it/s]"
      ]
     },
     "metadata": {},
     "output_type": "display_data"
    },
    {
     "name": "stdout",
     "output_type": "stream",
     "text": [
      "\n",
      "TASK: Property definition\n",
      "\n",
      "List of attributes in the event log:\n",
      "0 - InfectionSuspected\n",
      "1 - org:group\n",
      "2 - DiagnosticBlood\n",
      "3 - DisfuncOrg\n",
      "4 - SIRSCritTachypnea\n",
      "5 - Hypotensie\n",
      "6 - SIRSCritHeartRate\n",
      "7 - Infusion\n",
      "8 - DiagnosticArtAstrup\n",
      "9 - concept:name\n",
      "10 - Age\n",
      "11 - DiagnosticIC\n",
      "12 - DiagnosticSputum\n",
      "13 - DiagnosticLiquor\n",
      "14 - DiagnosticOther\n",
      "15 - SIRSCriteria2OrMore\n",
      "16 - DiagnosticXthorax\n",
      "17 - SIRSCritTemperature\n",
      "18 - time:timestamp\n",
      "19 - DiagnosticUrinaryCulture\n",
      "20 - SIRSCritLeucos\n",
      "21 - Oligurie\n",
      "22 - DiagnosticLacticAcid\n",
      "23 - lifecycle:transition\n",
      "24 - Diagnose\n",
      "25 - Hypoxie\n",
      "26 - DiagnosticUrinarySediment\n",
      "27 - DiagnosticECG\n",
      "28 - case:concept:name\n",
      "29 - Leucocytes\n",
      "30 - CRP\n",
      "31 - LacticAcid\n"
     ]
    },
    {
     "name": "stdin",
     "output_type": "stream",
     "text": [
      "\n",
      "Choose all attributes to consider as a property.\n",
      "Enter the keys as a list separated by space: ß\n"
     ]
    },
    {
     "ename": "ValueError",
     "evalue": "invalid literal for int() with base 10: 'ß'",
     "output_type": "error",
     "traceback": [
      "\u001b[0;31m---------------------------------------------------------------------------\u001b[0m",
      "\u001b[0;31mValueError\u001b[0m                                Traceback (most recent call last)",
      "Cell \u001b[0;32mIn[5], line 3\u001b[0m\n\u001b[1;32m      1\u001b[0m \u001b[38;5;28;01mfrom\u001b[39;00m \u001b[38;5;21;01mve_main\u001b[39;00m \u001b[38;5;28;01mimport\u001b[39;00m \u001b[38;5;241m*\u001b[39m\n\u001b[0;32m----> 3\u001b[0m df \u001b[38;5;241m=\u001b[39m main()\n",
      "File \u001b[0;32m~/Documents/GITHUB.nosync/VARIANT_EXTRACTION/variant_extraction/ve_main.py:17\u001b[0m, in \u001b[0;36mmain\u001b[0;34m()\u001b[0m\n\u001b[1;32m     15\u001b[0m \u001b[38;5;28mprint\u001b[39m(\u001b[38;5;124m\"\u001b[39m\u001b[38;5;130;01m\\n\u001b[39;00m\u001b[38;5;124mTASK: Property definition\u001b[39m\u001b[38;5;124m\"\u001b[39m)\n\u001b[1;32m     16\u001b[0m \u001b[38;5;66;03m#property_columns = propertyDefinition2(df) # OLD\u001b[39;00m\n\u001b[0;32m---> 17\u001b[0m property_dict \u001b[38;5;241m=\u001b[39m propertyDefinition(df, CASE_COLUMN)\n\u001b[1;32m     19\u001b[0m \u001b[38;5;66;03m# INSTANCE DEFINITION\u001b[39;00m\n\u001b[1;32m     20\u001b[0m \u001b[38;5;28mprint\u001b[39m(\u001b[38;5;124m\"\u001b[39m\u001b[38;5;130;01m\\n\u001b[39;00m\u001b[38;5;124mTASK: Instance definition\u001b[39m\u001b[38;5;124m\"\u001b[39m)\n",
      "File \u001b[0;32m~/Documents/GITHUB.nosync/VARIANT_EXTRACTION/variant_extraction/ve_methods/ve_propertydefinition.py:179\u001b[0m, in \u001b[0;36mpropertyDefinition\u001b[0;34m(df, CASE_COLUMN)\u001b[0m\n\u001b[1;32m    177\u001b[0m \u001b[38;5;66;03m# user chooses attributes for property definition\u001b[39;00m\n\u001b[1;32m    178\u001b[0m message \u001b[38;5;241m=\u001b[39m \u001b[38;5;124m\"\u001b[39m\u001b[38;5;130;01m\\n\u001b[39;00m\u001b[38;5;124mChoose all attributes to consider as a property.\u001b[39m\u001b[38;5;130;01m\\n\u001b[39;00m\u001b[38;5;124mEnter the keys as a list separated by space:\u001b[39m\u001b[38;5;124m\"\u001b[39m\n\u001b[0;32m--> 179\u001b[0m property_keys \u001b[38;5;241m=\u001b[39m my_list \u001b[38;5;241m=\u001b[39m \u001b[38;5;28mlist\u001b[39m(\u001b[38;5;28mmap\u001b[39m(\u001b[38;5;28mint\u001b[39m,\u001b[38;5;28minput\u001b[39m(message)\u001b[38;5;241m.\u001b[39msplit()))\n\u001b[1;32m    180\u001b[0m attributes \u001b[38;5;241m=\u001b[39m [attribute_list[key] \u001b[38;5;28;01mfor\u001b[39;00m key \u001b[38;5;129;01min\u001b[39;00m property_keys]\n\u001b[1;32m    182\u001b[0m \u001b[38;5;66;03m# user selects functions for properties\u001b[39;00m\n",
      "\u001b[0;31mValueError\u001b[0m: invalid literal for int() with base 10: 'ß'"
     ]
    }
   ],
   "source": [
    "from ve_main import *\n",
    "\n",
    "df = main()"
   ]
  },
  {
   "cell_type": "markdown",
   "id": "49ce112f-b129-472d-88d3-c9f6267eac0b",
   "metadata": {
    "jp-MarkdownHeadingCollapsed": true,
    "tags": []
   },
   "source": [
    "## Variant Analysis"
   ]
  },
  {
   "cell_type": "code",
   "execution_count": 38,
   "id": "729113f4-4be6-4c3c-afce-883a56df4f49",
   "metadata": {
    "tags": []
   },
   "outputs": [
    {
     "data": {
      "text/plain": [
       "3833      XJ\n",
       "3834      XJ\n",
       "3835      XJ\n",
       "3836      XJ\n",
       "3837      XJ\n",
       "        ... \n",
       "278        X\n",
       "8887      QW\n",
       "10887    UBA\n",
       "8957      UW\n",
       "10311    FAA\n",
       "Name: case:concept:name, Length: 15214, dtype: object"
      ]
     },
     "execution_count": 38,
     "metadata": {},
     "output_type": "execute_result"
    }
   ],
   "source": [
    "df[CASE_COLUMN]"
   ]
  },
  {
   "cell_type": "code",
   "execution_count": null,
   "id": "6064dee2-0af1-4af4-8529-1939587ba751",
   "metadata": {
    "tags": []
   },
   "outputs": [],
   "source": []
  },
  {
   "cell_type": "code",
   "execution_count": 188,
   "id": "0ab98c71-3092-4a48-b92f-9d32caea8617",
   "metadata": {},
   "outputs": [
    {
     "data": {
      "text/plain": [
       "Variant\n",
       "0      1\n",
       "1      1\n",
       "2      1\n",
       "3      1\n",
       "4      1\n",
       "      ..\n",
       "836    1\n",
       "837    1\n",
       "838    1\n",
       "839    1\n",
       "840    1\n",
       "Name: case:concept:name, Length: 841, dtype: int64"
      ]
     },
     "execution_count": 188,
     "metadata": {},
     "output_type": "execute_result"
    }
   ],
   "source": [
    "df.groupby('Variant')[CASE_COLUMN].nunique()#.loc[130]"
   ]
  },
  {
   "cell_type": "code",
   "execution_count": 254,
   "id": "6282cf13-38f1-4b24-9e9b-27ff41e3ff84",
   "metadata": {
    "tags": []
   },
   "outputs": [
    {
     "data": {
      "text/plain": [
       "Variant\n",
       "0      True\n",
       "1      True\n",
       "2      True\n",
       "3      True\n",
       "4      True\n",
       "       ... \n",
       "836    True\n",
       "837    True\n",
       "838    True\n",
       "839    True\n",
       "840    True\n",
       "Name: case:concept:name, Length: 773, dtype: bool"
      ]
     },
     "execution_count": 254,
     "metadata": {},
     "output_type": "execute_result"
    }
   ],
   "source": [
    "# find the variant\n",
    "# Variant 1 == 35 (same as disco) -> 777\n",
    "# Variant 2 == 28 (Disco is 24)\n",
    "# Variant 3 == 18 (Disco is 22)\n",
    "# Variant 4 == 10 (Disco is 13)\n",
    "# Variant 5 == 9 (Disco is 11)\n",
    "v = 1\n",
    "(df.groupby('Variant')[CASE_COLUMN].nunique() == v).loc[(df.groupby('Variant')[CASE_COLUMN].nunique() == v) == True]\n",
    "\n",
    "#(df.groupby('Variant')[CASE_COLUMN].nunique() > 1)"
   ]
  },
  {
   "cell_type": "code",
   "execution_count": 251,
   "id": "1735676d-c0d8-4c24-b9fc-d0892a0d1400",
   "metadata": {
    "tags": []
   },
   "outputs": [
    {
     "data": {
      "text/plain": [
       "array(['Q', 'SKA', 'HU', 'YU', 'CDA', 'HMA', 'OF', 'XA', 'LY', 'P', 'DMA',\n",
       "       'KDA', 'XMA', 'SP', 'OE', 'VMA', 'OJA', 'AKA', 'ID', 'UEA', 'WY',\n",
       "       'TY', 'RA', 'M', 'RV', 'VJA', 'INA', 'MB', 'WD', 'JNA', 'LNA',\n",
       "       'NAA', 'UH', 'MF', 'FFA'], dtype=object)"
      ]
     },
     "execution_count": 251,
     "metadata": {},
     "output_type": "execute_result"
    }
   ],
   "source": [
    "df[[CASE_COLUMN, 'Variant']].loc[df['Variant']==777][CASE_COLUMN].unique()# == 'LNA'"
   ]
  },
  {
   "cell_type": "code",
   "execution_count": 224,
   "id": "ca4ca548-a66f-4273-8606-3a3608ae9517",
   "metadata": {
    "tags": []
   },
   "outputs": [
    {
     "data": {
      "text/html": [
       "<div>\n",
       "<style scoped>\n",
       "    .dataframe tbody tr th:only-of-type {\n",
       "        vertical-align: middle;\n",
       "    }\n",
       "\n",
       "    .dataframe tbody tr th {\n",
       "        vertical-align: top;\n",
       "    }\n",
       "\n",
       "    .dataframe thead th {\n",
       "        text-align: right;\n",
       "    }\n",
       "</style>\n",
       "<table border=\"1\" class=\"dataframe\">\n",
       "  <thead>\n",
       "    <tr style=\"text-align: right;\">\n",
       "      <th></th>\n",
       "      <th>case:concept:name</th>\n",
       "      <th>concept:name</th>\n",
       "    </tr>\n",
       "  </thead>\n",
       "  <tbody>\n",
       "    <tr>\n",
       "      <th>10386</th>\n",
       "      <td>LAA</td>\n",
       "      <td>ER Registration</td>\n",
       "    </tr>\n",
       "    <tr>\n",
       "      <th>10387</th>\n",
       "      <td>LAA</td>\n",
       "      <td>ER Triage</td>\n",
       "    </tr>\n",
       "    <tr>\n",
       "      <th>10388</th>\n",
       "      <td>LAA</td>\n",
       "      <td>ER Sepsis Triage</td>\n",
       "    </tr>\n",
       "    <tr>\n",
       "      <th>10389</th>\n",
       "      <td>LAA</td>\n",
       "      <td>LacticAcid</td>\n",
       "    </tr>\n",
       "    <tr>\n",
       "      <th>10390</th>\n",
       "      <td>LAA</td>\n",
       "      <td>Leucocytes</td>\n",
       "    </tr>\n",
       "    <tr>\n",
       "      <th>10391</th>\n",
       "      <td>LAA</td>\n",
       "      <td>CRP</td>\n",
       "    </tr>\n",
       "    <tr>\n",
       "      <th>10392</th>\n",
       "      <td>LAA</td>\n",
       "      <td>IV Liquid</td>\n",
       "    </tr>\n",
       "    <tr>\n",
       "      <th>10393</th>\n",
       "      <td>LAA</td>\n",
       "      <td>IV Antibiotics</td>\n",
       "    </tr>\n",
       "  </tbody>\n",
       "</table>\n",
       "</div>"
      ],
      "text/plain": [
       "      case:concept:name      concept:name\n",
       "10386               LAA   ER Registration\n",
       "10387               LAA         ER Triage\n",
       "10388               LAA  ER Sepsis Triage\n",
       "10389               LAA        LacticAcid\n",
       "10390               LAA        Leucocytes\n",
       "10391               LAA               CRP\n",
       "10392               LAA         IV Liquid\n",
       "10393               LAA    IV Antibiotics"
      ]
     },
     "execution_count": 224,
     "metadata": {},
     "output_type": "execute_result"
    }
   ],
   "source": [
    "df[[CASE_COLUMN, ACTIVITY_COLUMN]].loc[df[CASE_COLUMN]=='LAA']"
   ]
  },
  {
   "cell_type": "markdown",
   "id": "c7787a91-f65c-431f-b370-f4feccc51c30",
   "metadata": {
    "tags": []
   },
   "source": [
    "### Analysis (Only for Jupyter)"
   ]
  },
  {
   "cell_type": "code",
   "execution_count": 351,
   "id": "f106a4b8-8a98-45da-835b-42c2bde63c68",
   "metadata": {
    "tags": []
   },
   "outputs": [],
   "source": [
    "#df.groupby(\"Variant\").count()\n",
    "#df2.groupby(\"Variant\").count()\n",
    "#df3.groupby(\"Variant\").count()"
   ]
  },
  {
   "cell_type": "code",
   "execution_count": 2,
   "id": "cd60a85a-1bac-4363-8627-c29406999ffc",
   "metadata": {
    "tags": []
   },
   "outputs": [
    {
     "ename": "NameError",
     "evalue": "name 'df' is not defined",
     "output_type": "error",
     "traceback": [
      "\u001b[0;31m---------------------------------------------------------------------------\u001b[0m",
      "\u001b[0;31mNameError\u001b[0m                                 Traceback (most recent call last)",
      "Cell \u001b[0;32mIn[2], line 1\u001b[0m\n\u001b[0;32m----> 1\u001b[0m net, im, fm \u001b[38;5;241m=\u001b[39m pm4py\u001b[38;5;241m.\u001b[39mdiscover_petri_net_inductive(df\u001b[38;5;241m.\u001b[39mloc[df[\u001b[38;5;124m'\u001b[39m\u001b[38;5;124mVariant\u001b[39m\u001b[38;5;124m'\u001b[39m]\u001b[38;5;241m==\u001b[39m\u001b[38;5;241m0\u001b[39m])\n\u001b[1;32m      2\u001b[0m pm4py\u001b[38;5;241m.\u001b[39mview_petri_net(net, im, fm)\n",
      "\u001b[0;31mNameError\u001b[0m: name 'df' is not defined"
     ]
    }
   ],
   "source": [
    "net, im, fm = pm4py.discover_petri_net_inductive(df.loc[df['Variant']==0])\n",
    "pm4py.view_petri_net(net, im, fm)"
   ]
  },
  {
   "cell_type": "markdown",
   "id": "2ef4ba84-1bde-4408-825b-63d4cd9a4234",
   "metadata": {
    "tags": []
   },
   "source": [
    "**Analysis of Patient Groups**"
   ]
  },
  {
   "cell_type": "code",
   "execution_count": 226,
   "id": "f696bb5b-af32-400c-b310-5c42b93ab62f",
   "metadata": {
    "tags": []
   },
   "outputs": [],
   "source": [
    "V_COL = \"case:Variant\""
   ]
  },
  {
   "cell_type": "code",
   "execution_count": 229,
   "id": "d4d0b057-fbc4-4ad1-b9e1-e02f2e209e74",
   "metadata": {
    "tags": []
   },
   "outputs": [],
   "source": [
    "path_v0_0 = \"eventlogs/variant_logs/1_variant_log_mainstream.xes\"  \n",
    "path_v0_1 = \"eventlogs/variant_logs/1_variant_log_exceptional.xes\" \n",
    "path_v2 = \"eventlogs/variant_logs/2_variant_log_sequences.xes\" \n",
    "path_v3 = \"eventlogs/variant_logs/3_variant_log_age-every5.xes\" \n",
    "path_v4 = \"eventlogs/variant_logs/4_variant_log_age-80-60.xes\"\n",
    "path_v5 = \"eventlogs/variant_logs/5_variant_log_SIRS-2ormore.xes\"\n",
    "path_v6 = \"eventlogs/variant_logs/6_variant_log_SIRS-allfour.xes\"\n",
    "path_v7 = \"eventlogs/variant_logs/7_variant_log_SIRS-allfour-organdys.xes\"\n",
    "path_v8= \"eventlogs/variant_logs/8_variant_log_qSOFA.xes\""
   ]
  },
  {
   "cell_type": "code",
   "execution_count": 230,
   "id": "08bf949f-ac15-46cd-ae43-3616e8a452ca",
   "metadata": {
    "tags": []
   },
   "outputs": [
    {
     "data": {
      "application/vnd.jupyter.widget-view+json": {
       "model_id": "9c153e79e7174f9b85499709345ee289",
       "version_major": 2,
       "version_minor": 0
      },
      "text/plain": [
       "parsing log, completed traces ::   0%|          | 0/35 [00:00<?, ?it/s]"
      ]
     },
     "metadata": {},
     "output_type": "display_data"
    },
    {
     "data": {
      "application/vnd.jupyter.widget-view+json": {
       "model_id": "37db3326948841c29ac0da56338dc158",
       "version_major": 2,
       "version_minor": 0
      },
      "text/plain": [
       "parsing log, completed traces ::   0%|          | 0/1 [00:00<?, ?it/s]"
      ]
     },
     "metadata": {},
     "output_type": "display_data"
    },
    {
     "data": {
      "application/vnd.jupyter.widget-view+json": {
       "model_id": "f0bb82620d324116b0f1121b3db7b75a",
       "version_major": 2,
       "version_minor": 0
      },
      "text/plain": [
       "parsing log, completed traces ::   0%|          | 0/1050 [00:00<?, ?it/s]"
      ]
     },
     "metadata": {},
     "output_type": "display_data"
    },
    {
     "data": {
      "application/vnd.jupyter.widget-view+json": {
       "model_id": "e51330cf532547f5bfc98a9bd277ad19",
       "version_major": 2,
       "version_minor": 0
      },
      "text/plain": [
       "parsing log, completed traces ::   0%|          | 0/1050 [00:00<?, ?it/s]"
      ]
     },
     "metadata": {},
     "output_type": "display_data"
    },
    {
     "data": {
      "application/vnd.jupyter.widget-view+json": {
       "model_id": "06ac20c26c3e4214bcfe4829206f23f6",
       "version_major": 2,
       "version_minor": 0
      },
      "text/plain": [
       "parsing log, completed traces ::   0%|          | 0/1050 [00:00<?, ?it/s]"
      ]
     },
     "metadata": {},
     "output_type": "display_data"
    },
    {
     "data": {
      "application/vnd.jupyter.widget-view+json": {
       "model_id": "092f17c41b0b44d3b3da239f680eb77f",
       "version_major": 2,
       "version_minor": 0
      },
      "text/plain": [
       "parsing log, completed traces ::   0%|          | 0/1050 [00:00<?, ?it/s]"
      ]
     },
     "metadata": {},
     "output_type": "display_data"
    },
    {
     "data": {
      "application/vnd.jupyter.widget-view+json": {
       "model_id": "1c8c5ed28b254a219bec74daf31e1526",
       "version_major": 2,
       "version_minor": 0
      },
      "text/plain": [
       "parsing log, completed traces ::   0%|          | 0/1050 [00:00<?, ?it/s]"
      ]
     },
     "metadata": {},
     "output_type": "display_data"
    },
    {
     "data": {
      "application/vnd.jupyter.widget-view+json": {
       "model_id": "7977176e0917456b9af3581bcb60045e",
       "version_major": 2,
       "version_minor": 0
      },
      "text/plain": [
       "parsing log, completed traces ::   0%|          | 0/1050 [00:00<?, ?it/s]"
      ]
     },
     "metadata": {},
     "output_type": "display_data"
    },
    {
     "data": {
      "application/vnd.jupyter.widget-view+json": {
       "model_id": "cda2856c50154a05bf59b823fa8985ca",
       "version_major": 2,
       "version_minor": 0
      },
      "text/plain": [
       "parsing log, completed traces ::   0%|          | 0/1050 [00:00<?, ?it/s]"
      ]
     },
     "metadata": {},
     "output_type": "display_data"
    }
   ],
   "source": [
    "df_v0_0 = pm4py.read_xes(path_v0_0)\n",
    "df_v0_1 =pm4py.read_xes(path_v0_1)\n",
    "df_v2 = pm4py.read_xes(path_v2)\n",
    "df_v3 = pm4py.read_xes(path_v3)\n",
    "df_v4 = pm4py.read_xes(path_v4)\n",
    "df_v5 = pm4py.read_xes(path_v5)\n",
    "df_v6 = pm4py.read_xes(path_v6)\n",
    "df_v7 = pm4py.read_xes(path_v7)\n",
    "df_v8 = pm4py.read_xes(path_v8)"
   ]
  },
  {
   "cell_type": "code",
   "execution_count": 231,
   "id": "c7a8d5a1-6c00-48a6-99fd-462a742266b9",
   "metadata": {
    "tags": []
   },
   "outputs": [],
   "source": [
    "df_v0_0 = df_v0_0.sort_values(by=TIMESTAMP_COLUMN)\n",
    "df_v0_1 = df_v0_1.sort_values(by=TIMESTAMP_COLUMN)\n",
    "df_v2 = df_v2.sort_values(by=TIMESTAMP_COLUMN)\n",
    "df_v3 = df_v3.sort_values(by=TIMESTAMP_COLUMN)\n",
    "df_v4 = df_v4.sort_values(by=TIMESTAMP_COLUMN)\n",
    "df_v5 = df_v5.sort_values(by=TIMESTAMP_COLUMN)\n",
    "df_v6 = df_v6.sort_values(by=TIMESTAMP_COLUMN)\n",
    "df_v7 = df_v7.sort_values(by=TIMESTAMP_COLUMN)\n",
    "df_v8 = df_v8.sort_values(by=TIMESTAMP_COLUMN)"
   ]
  },
  {
   "cell_type": "markdown",
   "id": "45d2e78b-7146-47cd-b5b9-42fb83229869",
   "metadata": {},
   "source": [
    "*Number of variants*"
   ]
  },
  {
   "cell_type": "code",
   "execution_count": 267,
   "id": "92c0c698-d5ce-4c03-b9ef-bce6f92917d3",
   "metadata": {
    "tags": []
   },
   "outputs": [
    {
     "name": "stdout",
     "output_type": "stream",
     "text": [
      "846\n",
      "841\n",
      "15\n",
      "3\n",
      "2\n",
      "15\n",
      "20\n",
      "4\n"
     ]
    }
   ],
   "source": [
    "print(846)\n",
    "print(len(df_v2[V_COL].unique()))\n",
    "print(len(df_v3[V_COL].unique()))\n",
    "print(len(df_v4[V_COL].unique()))\n",
    "print(len(df_v5[V_COL].unique()))\n",
    "print(len(df_v6[V_COL].unique()))\n",
    "print(len(df_v7[V_COL].unique()))\n",
    "print(len(df_v8[V_COL].unique()))"
   ]
  },
  {
   "cell_type": "markdown",
   "id": "aeb929fc-8a4c-4742-a5c1-a21277725546",
   "metadata": {},
   "source": [
    "*Cases per instance*"
   ]
  },
  {
   "cell_type": "code",
   "execution_count": 232,
   "id": "0236b050-ce8b-435b-9418-32901a6a1efb",
   "metadata": {
    "tags": []
   },
   "outputs": [
    {
     "name": "stdout",
     "output_type": "stream",
     "text": [
      "35\n",
      "1\n"
     ]
    }
   ],
   "source": [
    "print(len(df_v0_0.groupby(CASE_COLUMN)))\n",
    "print(len(df_v0_1.groupby(CASE_COLUMN)))"
   ]
  },
  {
   "cell_type": "code",
   "execution_count": 248,
   "id": "c17b5786-7c3e-42a2-9dd4-bc57a50a53fe",
   "metadata": {
    "tags": []
   },
   "outputs": [
    {
     "name": "stdout",
     "output_type": "stream",
     "text": [
      "35\n",
      "1\n"
     ]
    }
   ],
   "source": [
    "print(df_v2.groupby(V_COL)[CASE_COLUMN].nunique(CASE_COLUMN).max())\n",
    "print(df_v2.groupby(V_COL)[CASE_COLUMN].nunique(CASE_COLUMN).min())"
   ]
  },
  {
   "cell_type": "code",
   "execution_count": 236,
   "id": "b0c0f9c3-da32-47de-aff3-f61b0f7023e7",
   "metadata": {
    "tags": []
   },
   "outputs": [
    {
     "name": "stdout",
     "output_type": "stream",
     "text": [
      "155\n",
      "11\n"
     ]
    }
   ],
   "source": [
    "print(df_v3.groupby(V_COL)[CASE_COLUMN].nunique(CASE_COLUMN).max())\n",
    "print(df_v3.groupby(V_COL)[CASE_COLUMN].nunique(CASE_COLUMN).min())"
   ]
  },
  {
   "cell_type": "code",
   "execution_count": 237,
   "id": "7b9270dd-52f4-4f76-825e-1591546687f7",
   "metadata": {
    "tags": []
   },
   "outputs": [
    {
     "name": "stdout",
     "output_type": "stream",
     "text": [
      "433\n",
      "223\n"
     ]
    }
   ],
   "source": [
    "print(df_v4.groupby(V_COL)[CASE_COLUMN].nunique(CASE_COLUMN).max())\n",
    "print(df_v4.groupby(V_COL)[CASE_COLUMN].nunique(CASE_COLUMN).min())"
   ]
  },
  {
   "cell_type": "code",
   "execution_count": 238,
   "id": "d817002e-f3e1-41a3-ba78-d44ad208f5f7",
   "metadata": {
    "tags": []
   },
   "outputs": [
    {
     "name": "stdout",
     "output_type": "stream",
     "text": [
      "853\n",
      "197\n"
     ]
    }
   ],
   "source": [
    "print(df_v5.groupby(V_COL)[CASE_COLUMN].nunique(CASE_COLUMN).max())\n",
    "print(df_v5.groupby(V_COL)[CASE_COLUMN].nunique(CASE_COLUMN).min())"
   ]
  },
  {
   "cell_type": "code",
   "execution_count": 239,
   "id": "29334514-c227-4bce-beb7-98b5ef772841",
   "metadata": {
    "tags": []
   },
   "outputs": [
    {
     "name": "stdout",
     "output_type": "stream",
     "text": [
      "421\n",
      "1\n"
     ]
    }
   ],
   "source": [
    "print(df_v6.groupby(V_COL)[CASE_COLUMN].nunique(CASE_COLUMN).max())\n",
    "print(df_v6.groupby(V_COL)[CASE_COLUMN].nunique(CASE_COLUMN).min())"
   ]
  },
  {
   "cell_type": "code",
   "execution_count": 240,
   "id": "5c3421b0-3554-4a34-85e6-3e68b23a4594",
   "metadata": {
    "tags": []
   },
   "outputs": [
    {
     "name": "stdout",
     "output_type": "stream",
     "text": [
      "378\n",
      "1\n"
     ]
    }
   ],
   "source": [
    "print(df_v7.groupby(V_COL)[CASE_COLUMN].nunique(CASE_COLUMN).max())\n",
    "print(df_v7.groupby(V_COL)[CASE_COLUMN].nunique(CASE_COLUMN).min())"
   ]
  },
  {
   "cell_type": "code",
   "execution_count": 241,
   "id": "b8d3a1da-12db-4514-bba4-3a1150947a21",
   "metadata": {
    "tags": []
   },
   "outputs": [
    {
     "name": "stdout",
     "output_type": "stream",
     "text": [
      "983\n",
      "7\n"
     ]
    }
   ],
   "source": [
    "print(df_v8.groupby(V_COL)[CASE_COLUMN].nunique(CASE_COLUMN).max())\n",
    "print(df_v8.groupby(V_COL)[CASE_COLUMN].nunique(CASE_COLUMN).min())"
   ]
  },
  {
   "cell_type": "markdown",
   "id": "afd5c9cf-c62e-41f5-b622-11f44b5bf38c",
   "metadata": {
    "tags": []
   },
   "source": [
    "*Most prevalent variant*"
   ]
  },
  {
   "cell_type": "code",
   "execution_count": 252,
   "id": "d353b7f2-190d-44ad-91f6-607362d70a80",
   "metadata": {
    "tags": []
   },
   "outputs": [
    {
     "name": "stdout",
     "output_type": "stream",
     "text": [
      "50.0\n",
      "50.0\n",
      "90.0\n",
      "85.0\n",
      "75.0\n",
      "80.0\n",
      "82.5\n",
      "80.0\n"
     ]
    }
   ],
   "source": [
    "# Age\n",
    "print(df_v0_0.Age.median())\n",
    "print(df_v2.loc[df_v2[V_COL]==777].Age.median())\n",
    "print(df_v3.loc[df_v3[V_COL]==0].Age.median())\n",
    "print(df_v4.loc[df_v4[V_COL]==0].Age.median())\n",
    "print(df_v5.loc[df_v5[V_COL]==0].Age.median())\n",
    "print(df_v6.loc[df_v6[V_COL]==0].Age.median())\n",
    "print(df_v7.loc[df_v7[V_COL]==0].Age.median())\n",
    "print(df_v8.loc[df_v8[V_COL]==0].Age.median())"
   ]
  },
  {
   "cell_type": "code",
   "execution_count": 257,
   "id": "5fcdae43-4fa6-4df5-80ea-7652d1c8ed3a",
   "metadata": {
    "tags": []
   },
   "outputs": [
    {
     "name": "stdout",
     "output_type": "stream",
     "text": [
      "0.01\n",
      "0.01\n",
      "6.59\n",
      "6.78\n",
      "6.33\n",
      "17.12\n",
      "17.96\n",
      "12.23\n"
     ]
    }
   ],
   "source": [
    "import statistics\n",
    "# median case duration\n",
    "print(round(statistics.median(pm4py.get_all_case_durations(df_v0_0))/86400, 2))\n",
    "print(round(statistics.median(pm4py.get_all_case_durations(df_v2.loc[df_v2[V_COL]==777]))/86400, 2))\n",
    "print(round(statistics.median(pm4py.get_all_case_durations(df_v3.loc[df_v3[V_COL]==0]))/86400, 2))\n",
    "print(round(statistics.median(pm4py.get_all_case_durations(df_v4.loc[df_v4[V_COL]==0]))/86400, 2))\n",
    "print(round(statistics.median(pm4py.get_all_case_durations(df_v5.loc[df_v5[V_COL]==0]))/86400, 2))\n",
    "print(round(statistics.median(pm4py.get_all_case_durations(df_v6.loc[df_v6[V_COL]==0]))/86400, 2))\n",
    "print(round(statistics.median(pm4py.get_all_case_durations(df_v7.loc[df_v7[V_COL]==0]))/86400, 2))\n",
    "print(round(statistics.median(pm4py.get_all_case_durations(df_v8.loc[df_v8[V_COL]==0]))/86400, 2))"
   ]
  },
  {
   "cell_type": "code",
   "execution_count": 291,
   "id": "6b14b389-9bb0-4a8b-bcce-13a39a4fa17f",
   "metadata": {
    "tags": []
   },
   "outputs": [
    {
     "data": {
      "text/plain": [
       "3"
      ]
     },
     "execution_count": 291,
     "metadata": {},
     "output_type": "execute_result"
    }
   ],
   "source": []
  },
  {
   "cell_type": "code",
   "execution_count": 305,
   "id": "01680b08-e2b0-480d-8860-b9b805db8629",
   "metadata": {
    "tags": []
   },
   "outputs": [
    {
     "name": "stdout",
     "output_type": "stream",
     "text": [
      "\n",
      "V1\n",
      "3\n",
      "3.0\n",
      "3\n",
      "\n",
      "V2\n",
      "3\n",
      "3.0\n",
      "3\n",
      "\n",
      "V3\n",
      "33\n",
      "14.0\n",
      "3\n",
      "\n",
      "V4\n",
      "185\n",
      "14.0\n",
      "3\n",
      "\n",
      "V5\n",
      "185\n",
      "14.0\n",
      "5\n",
      "\n",
      "V6\n",
      "61\n",
      "18.5\n",
      "7\n",
      "\n",
      "V7\n",
      "40\n",
      "20.5\n",
      "11\n",
      "\n",
      "V8\n",
      "45\n",
      "31.0\n",
      "11\n"
     ]
    }
   ],
   "source": [
    "# number of events\n",
    "print(\"\\nV1\")\n",
    "print(df_v0_0.groupby(CASE_COLUMN).count()[ACTIVITY_COLUMN].max())\n",
    "print(df_v0_0.groupby(CASE_COLUMN).count()[ACTIVITY_COLUMN].median())\n",
    "print(df_v0_0.groupby(CASE_COLUMN).count()[ACTIVITY_COLUMN].min())\n",
    "\n",
    "print(\"\\nV2\")\n",
    "print(df_v2.loc[df_v2[V_COL]==777].groupby(CASE_COLUMN).count()[ACTIVITY_COLUMN].max())\n",
    "print(df_v2.loc[df_v2[V_COL]==777].groupby(CASE_COLUMN).count()[ACTIVITY_COLUMN].median())\n",
    "print(df_v2.loc[df_v2[V_COL]==777].groupby(CASE_COLUMN).count()[ACTIVITY_COLUMN].min())\n",
    "\n",
    "print(\"\\nV3\")\n",
    "print(df_v3.loc[df_v3[V_COL]==0].groupby(CASE_COLUMN).count()[ACTIVITY_COLUMN].max())\n",
    "print(df_v3.loc[df_v3[V_COL]==0].groupby(CASE_COLUMN).count()[ACTIVITY_COLUMN].median())\n",
    "print(df_v3.loc[df_v3[V_COL]==0].groupby(CASE_COLUMN).count()[ACTIVITY_COLUMN].min())\n",
    "\n",
    "print(\"\\nV4\")\n",
    "print(df_v4.loc[df_v4[V_COL]==0].groupby(CASE_COLUMN).count()[ACTIVITY_COLUMN].max())\n",
    "print(df_v4.loc[df_v4[V_COL]==0].groupby(CASE_COLUMN).count()[ACTIVITY_COLUMN].median())\n",
    "print(df_v4.loc[df_v4[V_COL]==0].groupby(CASE_COLUMN).count()[ACTIVITY_COLUMN].min())\n",
    "\n",
    "print(\"\\nV5\")\n",
    "print(df_v5.loc[df_v5[V_COL]==0].groupby(CASE_COLUMN).count()[ACTIVITY_COLUMN].max())\n",
    "print(df_v5.loc[df_v5[V_COL]==0].groupby(CASE_COLUMN).count()[ACTIVITY_COLUMN].median())\n",
    "print(df_v5.loc[df_v5[V_COL]==0].groupby(CASE_COLUMN).count()[ACTIVITY_COLUMN].min())\n",
    "\n",
    "print(\"\\nV6\")\n",
    "print(df_v6.loc[df_v6[V_COL]==0].groupby(CASE_COLUMN).count()[ACTIVITY_COLUMN].max())\n",
    "print(df_v6.loc[df_v6[V_COL]==0].groupby(CASE_COLUMN).count()[ACTIVITY_COLUMN].median())\n",
    "print(df_v6.loc[df_v6[V_COL]==0].groupby(CASE_COLUMN).count()[ACTIVITY_COLUMN].min())\n",
    "\n",
    "print(\"\\nV7\")\n",
    "print(df_v7.loc[df_v7[V_COL]==0].groupby(CASE_COLUMN).count()[ACTIVITY_COLUMN].max())\n",
    "print(df_v7.loc[df_v7[V_COL]==0].groupby(CASE_COLUMN).count()[ACTIVITY_COLUMN].median())\n",
    "print(df_v7.loc[df_v7[V_COL]==0].groupby(CASE_COLUMN).count()[ACTIVITY_COLUMN].min())\n",
    "\n",
    "print(\"\\nV8\")\n",
    "print(df_v8.loc[df_v8[V_COL]==0].groupby(CASE_COLUMN).count()[ACTIVITY_COLUMN].max())\n",
    "print(df_v8.loc[df_v8[V_COL]==0].groupby(CASE_COLUMN).count()[ACTIVITY_COLUMN].median())\n",
    "print(df_v8.loc[df_v8[V_COL]==0].groupby(CASE_COLUMN).count()[ACTIVITY_COLUMN].min())"
   ]
  },
  {
   "cell_type": "markdown",
   "id": "e76bdc82-a459-4dbe-aecf-3db0999bcc6f",
   "metadata": {},
   "source": [
    "*Least prevalent variant*"
   ]
  },
  {
   "cell_type": "code",
   "execution_count": 268,
   "id": "6c0644a2-c796-4692-ada6-5c7fb0849fb6",
   "metadata": {
    "tags": []
   },
   "outputs": [
    {
     "name": "stdout",
     "output_type": "stream",
     "text": [
      "35.0\n",
      "50.0\n",
      "20.0\n",
      "45.0\n",
      "70.0\n",
      "70.0\n",
      "70.0\n",
      "75.0\n"
     ]
    }
   ],
   "source": [
    "# Age\n",
    "print(df_v0_1.Age.median())\n",
    "print(df_v2.loc[df_v2[V_COL]==df_v2[V_COL].max()].Age.median())\n",
    "print(df_v3.loc[df_v3[V_COL]==df_v3[V_COL].max()].Age.median())\n",
    "print(df_v4.loc[df_v4[V_COL]==df_v4[V_COL].max()].Age.median())\n",
    "print(df_v5.loc[df_v5[V_COL]==df_v5[V_COL].max()].Age.median())\n",
    "print(df_v6.loc[df_v6[V_COL]==df_v6[V_COL].max()].Age.median())\n",
    "print(df_v7.loc[df_v7[V_COL]==df_v7[V_COL].max()].Age.median())\n",
    "print(df_v8.loc[df_v8[V_COL]==df_v8[V_COL].max()].Age.median())"
   ]
  },
  {
   "cell_type": "code",
   "execution_count": 269,
   "id": "870e34b8-4085-46db-8cbe-0a8803ad486d",
   "metadata": {
    "tags": []
   },
   "outputs": [
    {
     "name": "stdout",
     "output_type": "stream",
     "text": [
      "4.73\n",
      "5.18\n",
      "0.05\n",
      "3.01\n",
      "0.09\n",
      "0.06\n",
      "0.06\n",
      "5.1\n"
     ]
    }
   ],
   "source": [
    "# median case duration\n",
    "print(round(statistics.median(pm4py.get_all_case_durations(df_v0_1))/86400, 2))\n",
    "print(round(statistics.median(pm4py.get_all_case_durations(df_v2.loc[df_v2[V_COL]==df_v2[V_COL].max()]))/86400, 2))\n",
    "print(round(statistics.median(pm4py.get_all_case_durations(df_v3.loc[df_v3[V_COL]==df_v3[V_COL].max()]))/86400, 2))\n",
    "print(round(statistics.median(pm4py.get_all_case_durations(df_v4.loc[df_v4[V_COL]==df_v4[V_COL].max()]))/86400, 2))\n",
    "print(round(statistics.median(pm4py.get_all_case_durations(df_v5.loc[df_v5[V_COL]==df_v5[V_COL].max()]))/86400, 2))\n",
    "print(round(statistics.median(pm4py.get_all_case_durations(df_v6.loc[df_v6[V_COL]==df_v6[V_COL].max()]))/86400, 2))\n",
    "print(round(statistics.median(pm4py.get_all_case_durations(df_v7.loc[df_v7[V_COL]==df_v7[V_COL].max()]))/86400, 2))\n",
    "print(round(statistics.median(pm4py.get_all_case_durations(df_v8.loc[df_v8[V_COL]==df_v8[V_COL].max()]))/86400, 2))"
   ]
  },
  {
   "cell_type": "code",
   "execution_count": 306,
   "id": "d5c4de46-c474-4827-872b-33e01bc44aa0",
   "metadata": {},
   "outputs": [
    {
     "name": "stdout",
     "output_type": "stream",
     "text": [
      "\n",
      "V1\n",
      "15\n",
      "15.0\n",
      "15\n",
      "\n",
      "V2\n",
      "23\n",
      "23.0\n",
      "23\n",
      "\n",
      "V3\n",
      "15\n",
      "5.0\n",
      "3\n",
      "\n",
      "V4\n",
      "88\n",
      "12.0\n",
      "3\n",
      "\n",
      "V5\n",
      "61\n",
      "6.0\n",
      "3\n",
      "\n",
      "V6\n",
      "61\n",
      "5.5\n",
      "3\n",
      "\n",
      "V7\n",
      "61\n",
      "5.5\n",
      "3\n",
      "\n",
      "V8\n",
      "170\n",
      "13.0\n",
      "3\n"
     ]
    }
   ],
   "source": [
    "print(\"\\nV1\")\n",
    "print(df_v0_1.groupby(CASE_COLUMN).count()[ACTIVITY_COLUMN].max())\n",
    "print(df_v0_1.groupby(CASE_COLUMN).count()[ACTIVITY_COLUMN].median())\n",
    "print(df_v0_1.groupby(CASE_COLUMN).count()[ACTIVITY_COLUMN].min())\n",
    "\n",
    "print(\"\\nV2\")\n",
    "print(df_v2.loc[df_v2[V_COL] == df_v2[V_COL].max()].groupby(CASE_COLUMN).count()[ACTIVITY_COLUMN].max())\n",
    "print(df_v2.loc[df_v2[V_COL] == df_v2[V_COL].max()].groupby(CASE_COLUMN).count()[ACTIVITY_COLUMN].median())\n",
    "print(df_v2.loc[df_v2[V_COL] == df_v2[V_COL].max()].groupby(CASE_COLUMN).count()[ACTIVITY_COLUMN].min())\n",
    "\n",
    "print(\"\\nV3\")\n",
    "print(df_v3.loc[df_v3[V_COL]==df_v3[V_COL].max()].groupby(CASE_COLUMN).count()[ACTIVITY_COLUMN].max())\n",
    "print(df_v3.loc[df_v3[V_COL]==df_v3[V_COL].max()].groupby(CASE_COLUMN).count()[ACTIVITY_COLUMN].median())\n",
    "print(df_v3.loc[df_v3[V_COL]==df_v3[V_COL].max()].groupby(CASE_COLUMN).count()[ACTIVITY_COLUMN].min())\n",
    "\n",
    "print(\"\\nV4\")\n",
    "print(df_v4.loc[df_v4[V_COL]==df_v4[V_COL].max()].groupby(CASE_COLUMN).count()[ACTIVITY_COLUMN].max())\n",
    "print(df_v4.loc[df_v4[V_COL]==df_v4[V_COL].max()].groupby(CASE_COLUMN).count()[ACTIVITY_COLUMN].median())\n",
    "print(df_v4.loc[df_v4[V_COL]==df_v4[V_COL].max()].groupby(CASE_COLUMN).count()[ACTIVITY_COLUMN].min())\n",
    "\n",
    "print(\"\\nV5\")\n",
    "print(df_v5.loc[df_v5[V_COL]==df_v5[V_COL].max()].groupby(CASE_COLUMN).count()[ACTIVITY_COLUMN].max())\n",
    "print(df_v5.loc[df_v5[V_COL]==df_v5[V_COL].max()].groupby(CASE_COLUMN).count()[ACTIVITY_COLUMN].median())\n",
    "print(df_v5.loc[df_v5[V_COL]==df_v5[V_COL].max()].groupby(CASE_COLUMN).count()[ACTIVITY_COLUMN].min())\n",
    "\n",
    "print(\"\\nV6\")\n",
    "print(df_v6.loc[df_v6[V_COL]==df_v6[V_COL].max()].groupby(CASE_COLUMN).count()[ACTIVITY_COLUMN].max())\n",
    "print(df_v6.loc[df_v6[V_COL]==df_v6[V_COL].max()].groupby(CASE_COLUMN).count()[ACTIVITY_COLUMN].median())\n",
    "print(df_v6.loc[df_v6[V_COL]==df_v6[V_COL].max()].groupby(CASE_COLUMN).count()[ACTIVITY_COLUMN].min())\n",
    "\n",
    "print(\"\\nV7\")\n",
    "print(df_v7.loc[df_v7[V_COL]==df_v7[V_COL].max()].groupby(CASE_COLUMN).count()[ACTIVITY_COLUMN].max())\n",
    "print(df_v7.loc[df_v7[V_COL]==df_v7[V_COL].max()].groupby(CASE_COLUMN).count()[ACTIVITY_COLUMN].median())\n",
    "print(df_v7.loc[df_v7[V_COL]==df_v7[V_COL].max()].groupby(CASE_COLUMN).count()[ACTIVITY_COLUMN].min())\n",
    "\n",
    "print(\"\\nV8\")\n",
    "print(df_v8.loc[df_v8[V_COL]==df_v8[V_COL].max()].groupby(CASE_COLUMN).count()[ACTIVITY_COLUMN].max())\n",
    "print(df_v8.loc[df_v8[V_COL]==df_v8[V_COL].max()].groupby(CASE_COLUMN).count()[ACTIVITY_COLUMN].median())\n",
    "print(df_v8.loc[df_v8[V_COL]==df_v8[V_COL].max()].groupby(CASE_COLUMN).count()[ACTIVITY_COLUMN].min())"
   ]
  },
  {
   "cell_type": "code",
   "execution_count": null,
   "id": "e15669c4-663a-43b3-9649-319407254d28",
   "metadata": {},
   "outputs": [],
   "source": []
  },
  {
   "cell_type": "code",
   "execution_count": null,
   "id": "8dd972db-6d12-498e-b621-652e88a27b55",
   "metadata": {},
   "outputs": [],
   "source": []
  }
 ],
 "metadata": {
  "kernelspec": {
   "display_name": "Python 3 (ipykernel)",
   "language": "python",
   "name": "python3"
  },
  "language_info": {
   "codemirror_mode": {
    "name": "ipython",
    "version": 3
   },
   "file_extension": ".py",
   "mimetype": "text/x-python",
   "name": "python",
   "nbconvert_exporter": "python",
   "pygments_lexer": "ipython3",
   "version": "3.11.6"
  }
 },
 "nbformat": 4,
 "nbformat_minor": 5
}
